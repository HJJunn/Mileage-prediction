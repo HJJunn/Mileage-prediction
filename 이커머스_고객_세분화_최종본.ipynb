{
  "nbformat": 4,
  "nbformat_minor": 0,
  "metadata": {
    "colab": {
      "private_outputs": true,
      "provenance": [],
      "cell_execution_strategy": "setup",
      "mount_file_id": "1S0dT-kaxqkfiBHld3NUYmmUMzbxLrEaq",
      "authorship_tag": "ABX9TyPLQIBTncnu7DlC6oANrA0J",
      "include_colab_link": true
    },
    "kernelspec": {
      "name": "python3",
      "display_name": "Python 3"
    },
    "language_info": {
      "name": "python"
    }
  },
  "cells": [
    {
      "cell_type": "markdown",
      "metadata": {
        "id": "view-in-github",
        "colab_type": "text"
      },
      "source": [
        "<a href=\"https://colab.research.google.com/github/HJJunn/Mileage-prediction/blob/main/%EC%9D%B4%EC%BB%A4%EB%A8%B8%EC%8A%A4_%EA%B3%A0%EA%B0%9D_%EC%84%B8%EB%B6%84%ED%99%94_%EC%B5%9C%EC%A2%85%EB%B3%B8.ipynb\" target=\"_parent\"><img src=\"https://colab.research.google.com/assets/colab-badge.svg\" alt=\"Open In Colab\"/></a>"
      ]
    },
    {
      "cell_type": "code",
      "execution_count": null,
      "metadata": {
        "id": "wO4QhCEgs5WI"
      },
      "outputs": [],
      "source": [
        "import pandas as pd\n",
        "import numpy as np\n",
        "import datetime as dt\n",
        "from sklearn.ensemble import RandomForestRegressor\n",
        "import matplotlib.pyplot as plt\n",
        "import plotly.express as px\n",
        "import seaborn as sns"
      ]
    },
    {
      "cell_type": "code",
      "source": [
        "Discount = pd.read_csv(\"/content/drive/MyDrive/데이터분석기초/Discount_info.csv\")\n",
        "Customer = pd.read_csv(\"/content/drive/MyDrive/데이터분석기초/Customer_info.csv\")\n",
        "Marketing = pd.read_csv(\"/content/drive/MyDrive/데이터분석기초/Marketing_info.csv\")\n",
        "OnlineSales = pd.read_csv(\"/content/drive/MyDrive/데이터분석기초/Onlinesales_info.csv\")\n",
        "Tax = pd.read_csv(\"/content/drive/MyDrive/데이터분석기초/Tax_info.csv\")"
      ],
      "metadata": {
        "id": "1vXGCYIiuYMR"
      },
      "execution_count": null,
      "outputs": []
    },
    {
      "cell_type": "markdown",
      "source": [
        "# (1) 데이터 확인"
      ],
      "metadata": {
        "id": "kQXozSQ20Mwu"
      }
    },
    {
      "cell_type": "code",
      "source": [
        "Discount"
      ],
      "metadata": {
        "id": "5q9hINcyuc3h"
      },
      "execution_count": null,
      "outputs": []
    },
    {
      "cell_type": "code",
      "source": [
        "Discount.info()"
      ],
      "metadata": {
        "id": "6khsydykIWSo"
      },
      "execution_count": null,
      "outputs": []
    },
    {
      "cell_type": "code",
      "source": [
        "Discount.isnull().sum()"
      ],
      "metadata": {
        "id": "p7mGHtTMIZ9Z"
      },
      "execution_count": null,
      "outputs": []
    },
    {
      "cell_type": "code",
      "source": [
        "Customer"
      ],
      "metadata": {
        "id": "-Dpu-8dM-f0w"
      },
      "execution_count": null,
      "outputs": []
    },
    {
      "cell_type": "code",
      "source": [
        "Marketing"
      ],
      "metadata": {
        "id": "Tu57TRabvmOG"
      },
      "execution_count": null,
      "outputs": []
    },
    {
      "cell_type": "code",
      "source": [
        "OnlineSales"
      ],
      "metadata": {
        "id": "aXTxzzk9vmHq"
      },
      "execution_count": null,
      "outputs": []
    },
    {
      "cell_type": "code",
      "source": [
        "Tax"
      ],
      "metadata": {
        "id": "9ROnGzmVvmD9"
      },
      "execution_count": null,
      "outputs": []
    },
    {
      "cell_type": "markdown",
      "source": [
        "#(2) 데이터 전처리\n"
      ],
      "metadata": {
        "id": "oeBR0XLZs-y3"
      }
    },
    {
      "cell_type": "code",
      "source": [
        "Marketing['날짜']= pd.to_datetime(Marketing.날짜)\n",
        "Marketing.info()"
      ],
      "metadata": {
        "id": "yF4WlN7cv6Ff"
      },
      "execution_count": null,
      "outputs": []
    },
    {
      "cell_type": "code",
      "source": [
        "#OnlineSales + Customer\n",
        "df1 = pd.merge(OnlineSales, Customer, how = 'left', left_on = '고객ID', right_on= '고객ID')\n",
        "df1"
      ],
      "metadata": {
        "id": "nwWDwABKypRT"
      },
      "execution_count": null,
      "outputs": []
    },
    {
      "cell_type": "markdown",
      "source": [
        "## '월' 파생변수 생성 후 데이터 합치기"
      ],
      "metadata": {
        "id": "mu4wfHp-zlzf"
      }
    },
    {
      "cell_type": "code",
      "source": [
        "df1['거래날짜'] = pd.to_datetime(df1.거래날짜)"
      ],
      "metadata": {
        "id": "7o_-wZoAJ4BA"
      },
      "execution_count": null,
      "outputs": []
    },
    {
      "cell_type": "code",
      "source": [
        "df1['월'] = df1['거래날짜'].dt.month"
      ],
      "metadata": {
        "id": "G3HGVKa0JjS9"
      },
      "execution_count": null,
      "outputs": []
    },
    {
      "cell_type": "code",
      "source": [
        "def toMonth(x):\n",
        "    month = ''\n",
        "    if x == 1:\n",
        "        month = 'Jan'\n",
        "    elif x == 2:\n",
        "        month = 'Feb'\n",
        "    elif x == 3:\n",
        "        month = 'Mar'\n",
        "    elif x == 4:\n",
        "        month = 'Apr'\n",
        "    elif x == 5:\n",
        "        month = 'May'\n",
        "    elif x == 6:\n",
        "        month = 'Jun'\n",
        "    elif x == 7:\n",
        "        month = 'Jul'\n",
        "    elif x == 8:\n",
        "        month = 'Aug'\n",
        "    elif x == 9:\n",
        "        month = 'Sep'\n",
        "    elif x == 10:\n",
        "        month = 'Oct'\n",
        "    elif x == 11:\n",
        "        month = 'Nov'\n",
        "    elif x == 12:\n",
        "        month = 'Dec'\n",
        "\n",
        "    return month"
      ],
      "metadata": {
        "id": "IIRdsHUOKOZP"
      },
      "execution_count": null,
      "outputs": []
    },
    {
      "cell_type": "code",
      "source": [
        "df1['월'] = df1['월'].apply(lambda x : toMonth(x))\n",
        "df1.head()"
      ],
      "metadata": {
        "id": "IR3p_Z1ONY85"
      },
      "execution_count": null,
      "outputs": []
    },
    {
      "cell_type": "code",
      "source": [
        "#df1 + Discount\n",
        "df2 = pd.merge(df1, Discount, how = 'left' , left_on = ['제품카테고리', '월'], right_on = ['제품카테고리','월'])\n",
        "df2"
      ],
      "metadata": {
        "id": "1SuQhs1V0v4N"
      },
      "execution_count": null,
      "outputs": []
    },
    {
      "cell_type": "markdown",
      "source": [
        "## 결측값 확인\n"
      ],
      "metadata": {
        "id": "UqpF0Jc0zgUK"
      }
    },
    {
      "cell_type": "code",
      "source": [
        "#결측값 확인\n",
        "df2.isnull().sum()"
      ],
      "metadata": {
        "id": "IC129i0oRBKk"
      },
      "execution_count": null,
      "outputs": []
    },
    {
      "cell_type": "code",
      "source": [
        "#쿠폰코드가 null인 데이터 400개\n",
        "null_쿠폰코드 = df2[df2['쿠폰코드'].isnull()]\n",
        "null_쿠폰코드"
      ],
      "metadata": {
        "id": "X8Nw18IxIe6g"
      },
      "execution_count": null,
      "outputs": []
    },
    {
      "cell_type": "code",
      "source": [
        "#쿠폰코드와 할인율 모두 null인 데이터 6512개\n",
        "#결측값 있는 곳은 쿠폰코드와 할인율이 동시에 null\n",
        "df2[df2['쿠폰코드'].isnull() & df2['할인율'].isnull()]"
      ],
      "metadata": {
        "id": "a8wXZoL8xFuZ"
      },
      "execution_count": null,
      "outputs": []
    },
    {
      "cell_type": "markdown",
      "source": [
        "## 할인율 결측값 대체"
      ],
      "metadata": {
        "id": "W1OiWt9AzV6w"
      }
    },
    {
      "cell_type": "code",
      "source": [
        "# 월별 할인율 확인\n",
        "Discount.groupby(by = ['월'])['할인율'].mean().reset_index()"
      ],
      "metadata": {
        "id": "dkdq447uR65Z"
      },
      "execution_count": null,
      "outputs": []
    },
    {
      "cell_type": "code",
      "source": [
        "#결측값 평균값으로 대체\n",
        "df2.loc[(df2['월'].isin(['Jan', 'Apr', 'Jul', 'Oct'])) & (df2['할인율'].isnull()), '할인율'] = 10.0\n",
        "df2.loc[(df2['월'].isin(['Feb', 'May', 'Aug', 'Nov'])) & (df2['할인율'].isnull()), '할인율'] = 20.0\n",
        "df2.loc[(df2['월'].isin(['Mar', 'Jun', 'Sep', 'Dec'])) & (df2['할인율'].isnull()), '할인율'] = 30.0"
      ],
      "metadata": {
        "id": "jjYXdrYY0aPT"
      },
      "execution_count": null,
      "outputs": []
    },
    {
      "cell_type": "code",
      "source": [
        "df2.isnull().sum()"
      ],
      "metadata": {
        "id": "SHq7u6NHDCYX"
      },
      "execution_count": null,
      "outputs": []
    },
    {
      "cell_type": "markdown",
      "source": [
        "## 고객 생애 가치(CLV) 구하기\n"
      ],
      "metadata": {
        "id": "aCfcOU1JiGBQ"
      }
    },
    {
      "cell_type": "markdown",
      "source": [
        "**고객 생애 가치 구하는 식**\n",
        "\n",
        "**고객 가치 = 평균 구매 가치 x 평균 구매 빈도**\n",
        "\n",
        "**평균 구매 가치 = 특정 기간 내 총 수익/특정 기간 내 구매 횟수**\n",
        "\n",
        "**CLV = 고객 가치 x 평균 고객 유지 기간**"
      ],
      "metadata": {
        "id": "hk7Wq58KiSB3"
      }
    },
    {
      "cell_type": "code",
      "source": [
        "#쿠폰 상태에 따라 실제수익 구하기\n",
        "def total_revenue(row):\n",
        "    if row['쿠폰상태'] == 'Used' :\n",
        "        revenue = (row['수량'] * row['평균금액']) * (1 - row['할인율']/100) + row['배송료']\n",
        "    else :\n",
        "        revenue = (row['수량'] * row['평균금액'])+ row['배송료']\n",
        "    return revenue\n",
        "\n",
        "df2['실제수익'] = df2.apply(lambda x : total_revenue(x), axis = 1)"
      ],
      "metadata": {
        "id": "Gty4jWoMnKrs"
      },
      "execution_count": null,
      "outputs": []
    },
    {
      "cell_type": "code",
      "source": [
        "##평균 구매 가치\n",
        "df3 = df2.groupby(by = '고객ID')[['거래ID', '실제수익','거래날짜', '가입기간']].agg(\n",
        "    구매횟수 = ('거래ID','count'),\n",
        "    총수익 = ('실제수익', 'sum'),\n",
        "    거래날짜 = ('거래날짜', 'max'),\n",
        "    가입기간 = ('가입기간', 'mean')\n",
        ")\n",
        "\n",
        "#마지막 거래날짜 계산\n",
        "df3['거래날짜'] = pd.to_datetime(df3.거래날짜)\n",
        "df3['거래날짜'] = dt.datetime(2020,1,1) - df3['거래날짜']\n",
        "df3['거래날짜'] = df3['거래날짜'].apply(lambda x: x.days+1)\n",
        "\n",
        "\n",
        "df3['평균구매가치'] = df3['총수익']/df3['구매횟수']\n",
        "df3"
      ],
      "metadata": {
        "id": "WVzCHlDt4myM"
      },
      "execution_count": null,
      "outputs": []
    },
    {
      "cell_type": "code",
      "source": [
        "#고객 가치\n",
        "df3['평균구매빈도'] = df3['구매횟수']/12  #1년간의 평균구매빈도 구하기\n",
        "df3['고객가치'] = df3['평균구매가치'] * df3['평균구매빈도']\n",
        "df3"
      ],
      "metadata": {
        "id": "GfasELb61Rzg"
      },
      "execution_count": null,
      "outputs": []
    },
    {
      "cell_type": "code",
      "source": [
        "df3['가입기간']= df3['가입기간']/12\n",
        "df3['clv'] = df3['고객가치']*df3['가입기간']\n",
        "df3\n"
      ],
      "metadata": {
        "id": "mEpMbH8P1jJm"
      },
      "execution_count": null,
      "outputs": []
    },
    {
      "cell_type": "markdown",
      "source": [
        "# (3) 고객 등급별 세분화"
      ],
      "metadata": {
        "id": "PmZgH0aA7OSP"
      }
    },
    {
      "cell_type": "markdown",
      "source": [
        "## 가중치 선정하기"
      ],
      "metadata": {
        "id": "_4GoqROg1LdK"
      }
    },
    {
      "cell_type": "code",
      "source": [
        "df3 = df3.rename(columns={'거래날짜' : 'Recency',\n",
        "                         '구매횟수' : 'Frequency',\n",
        "                         '총수익' : 'Monetary'})\n",
        "df3"
      ],
      "metadata": {
        "id": "He3fJXJmrt-E"
      },
      "execution_count": null,
      "outputs": []
    },
    {
      "cell_type": "code",
      "source": [
        "# 랜덤 포레스트 모델 생성\n",
        "X = df3[['Recency', 'Frequency', 'Monetary']]\n",
        "y = df3['clv']\n",
        "rf_model = RandomForestRegressor(n_estimators=100, random_state=42)\n",
        "rf_model.fit(X, y)\n",
        "\n",
        "# 변수 중요도 확인\n",
        "feature_importances = rf_model.feature_importances_\n",
        "feature_names = X.columns\n",
        "\n",
        "# 변수 중요도 출력\n",
        "for i, (feature, importance) in enumerate(zip(feature_names, feature_importances), start=1):\n",
        "    print(f\"Feature {i}: {feature} - Importance: {importance}\")"
      ],
      "metadata": {
        "id": "V06-OXwk5co8"
      },
      "execution_count": null,
      "outputs": []
    },
    {
      "cell_type": "markdown",
      "source": [
        "**RFM 점수 생성 최근거래날짜 가중치 : 0.1 고객별총구매수 가중치 : 0.2 고객별사용총금액 : 0.7**"
      ],
      "metadata": {
        "id": "1ElY1tjdENZA"
      }
    },
    {
      "cell_type": "code",
      "source": [
        "df_rfm_ID = df3[['Recency', 'Frequency', 'Monetary']].reset_index()\n",
        "df_rfm = df_rfm_ID.drop('고객ID', axis = 1)\n",
        "df_rfm"
      ],
      "metadata": {
        "id": "uJ_37ejN6OGy"
      },
      "execution_count": null,
      "outputs": []
    },
    {
      "cell_type": "markdown",
      "source": [
        "## 데이터 분포 탐색"
      ],
      "metadata": {
        "id": "_ftHNoK71HZV"
      }
    },
    {
      "cell_type": "code",
      "source": [
        "#데이터 분포 탐색\n",
        "\n",
        "# 박스 플롯으로 4분위 수 시각화\n",
        "plt.figure(figsize=(10, 6))  # 시각화 창 크기 설정\n",
        "\n",
        "# 각 변수별로 박스 플롯 그리기\n",
        "for i, column in enumerate(df_rfm.columns):\n",
        "    plt.subplot(1, len(df_rfm.columns), i+1)  # 여러 개의 그래프를 나란히 그리기 위한 설정\n",
        "    sns.boxplot(y=df_rfm[column])\n",
        "    plt.title(column)  # 각 그래프에 칼럼 이름으로 제목 설정\n",
        "\n",
        "plt.tight_layout()  # 그래프 간격 조정\n",
        "plt.show()"
      ],
      "metadata": {
        "id": "dIluZq7FDqu2"
      },
      "execution_count": null,
      "outputs": []
    },
    {
      "cell_type": "code",
      "source": [
        "# 정규분포 시각화\n",
        "\n",
        "plt.figure(figsize=(12, 8))\n",
        "for i, col in enumerate(df_rfm.columns):\n",
        "    plt.subplot(3, 1, i + 1)\n",
        "    sns.histplot(df_rfm[col], kde=True)\n",
        "    plt.title(f'{col}')\n",
        "\n",
        "plt.tight_layout()\n",
        "plt.show()"
      ],
      "metadata": {
        "id": "rB0BCvxNE_yY"
      },
      "execution_count": null,
      "outputs": []
    },
    {
      "cell_type": "code",
      "source": [
        "#이상치의 발생과 쏠림현상을 해결하기위하여 제곱근 변환과 로그변환을 실시한다\n",
        "\n",
        "df_rfm_log=df_rfm.copy()\n",
        "\n",
        "df_rfm_log['Recency'] = np.sqrt(df_rfm_log['Recency'])\n",
        "df_rfm_log['Frequency'] = np.log1p(df_rfm_log['Frequency'])\n",
        "df_rfm_log['Monetary'] = np.log1p(df_rfm_log['Monetary'])"
      ],
      "metadata": {
        "id": "LNyjqbHYF_Gm"
      },
      "execution_count": null,
      "outputs": []
    },
    {
      "cell_type": "code",
      "source": [
        "# 박스 플롯으로 4분위 수 시각화\n",
        "plt.figure(figsize=(12, 8))  # 시각화 창 크기 설정\n",
        "\n",
        "# 각 변수별로 박스 플롯 그리기\n",
        "for i, column in enumerate(df_rfm_log.columns):\n",
        "    plt.subplot(2, len(df_rfm_log.columns), i+1)  # 여러 개의 그래프를 나란히 그리기 위한 설정\n",
        "    sns.boxplot(y=df_rfm_log[column])\n",
        "    plt.title(column)  # 각 그래프에 칼럼 이름으로 제목 설정\n",
        "\n",
        "plt.figure(figsize=(12, 8))\n",
        "for i, col in enumerate(df_rfm_log.columns):\n",
        "    plt.subplot(2, 3, i + 1)\n",
        "    sns.histplot(df_rfm_log[col], kde=True)\n",
        "    plt.title(f'{col}')\n",
        "\n",
        "plt.tight_layout()\n",
        "plt.show()\n",
        "plt.show()"
      ],
      "metadata": {
        "id": "9aomxh3XGkkf"
      },
      "execution_count": null,
      "outputs": []
    },
    {
      "cell_type": "markdown",
      "source": [
        "## RFM 등급 나누기"
      ],
      "metadata": {
        "id": "n81bEKfA02sl"
      }
    },
    {
      "cell_type": "code",
      "source": [
        "df_rfm_log.describe()"
      ],
      "metadata": {
        "id": "i1djDeE3GxkR"
      },
      "execution_count": null,
      "outputs": []
    },
    {
      "cell_type": "code",
      "source": [
        "# R,F,M 구간별 등급\n",
        "df_rfm_ID['R'] = pd.qcut(df_rfm_log['Recency'], q = [0, 0.2,0.4, 0.6, 0.8, 1],\n",
        "                              labels=[1,2,3,4,5]).astype(int)\n",
        "df_rfm_ID['F'] = pd.qcut(df_rfm_log['Frequency'], q = [0, 0.2,0.4, 0.6, 0.8, 1],\n",
        "                              labels=[1,2,3,4,5]).astype(int)\n",
        "df_rfm_ID['M'] = pd.qcut(df_rfm_log['Monetary'],  q = [0, 0.2,0.4, 0.6, 0.8, 1],\n",
        "                              labels=[1,2,3,4,5]).astype(int)\n",
        "df_rfm_ID.head()"
      ],
      "metadata": {
        "id": "eEc0_TzMI-6E"
      },
      "execution_count": null,
      "outputs": []
    },
    {
      "cell_type": "code",
      "source": [
        "df_rfm_ID['RFM_Score'] = df_rfm_ID['R'] * 0.1 + df_rfm_ID['F'] * 0.2 + df_rfm_ID['M'] * 0.7\n",
        "df_rfm_ID"
      ],
      "metadata": {
        "id": "V-FvHdFRMV-j"
      },
      "execution_count": null,
      "outputs": []
    },
    {
      "cell_type": "code",
      "source": [
        "# RFM 스코어를 기반으로 등급 나누기\n",
        "df_rfm_ID['RFM_Rank'] = pd.cut(df_rfm_ID['RFM_Score'], bins=[-np.inf, 2, 3, 4, np.inf], labels=['BRONZE', 'SILVER', 'GOLD', 'VIP'])\n",
        "df_rfm_ID"
      ],
      "metadata": {
        "id": "SwdgAnXaRvp3"
      },
      "execution_count": null,
      "outputs": []
    },
    {
      "cell_type": "code",
      "source": [
        "df_rfm_ID['RFM_Rank'].value_counts()"
      ],
      "metadata": {
        "id": "ZukivMhFRWPT"
      },
      "execution_count": null,
      "outputs": []
    },
    {
      "cell_type": "code",
      "source": [
        "#등급 분포도 시각화\n",
        "fig = px.scatter(\n",
        "    df_rfm_ID,\n",
        "    x = df_rfm_ID['고객ID'].index,\n",
        "    y = 'RFM_Score',\n",
        "    color = 'RFM_Rank'\n",
        ")\n",
        "fig.show()"
      ],
      "metadata": {
        "id": "dL2HFLlXORyx"
      },
      "execution_count": null,
      "outputs": []
    },
    {
      "cell_type": "markdown",
      "source": [
        "# (4) 고객분석\n"
      ],
      "metadata": {
        "id": "S6BX_XbUg8v6"
      }
    },
    {
      "cell_type": "code",
      "source": [
        "df4 = pd.merge(df2, df_rfm_ID, how = 'left', left_on = '고객ID', right_on = '고객ID')\n",
        "df4"
      ],
      "metadata": {
        "id": "jQFq3S4CPcb-"
      },
      "execution_count": null,
      "outputs": []
    },
    {
      "cell_type": "markdown",
      "source": [
        "## 성별"
      ],
      "metadata": {
        "id": "w0lrX82e0nWE"
      }
    },
    {
      "cell_type": "code",
      "source": [
        "df4_gender = df4['성별'].value_counts().reset_index()\n",
        "df4_gender"
      ],
      "metadata": {
        "id": "n0WXrHgkX-l3"
      },
      "execution_count": null,
      "outputs": []
    },
    {
      "cell_type": "code",
      "source": [
        "fig = px.pie(\n",
        "    df4_gender,\n",
        "    names='성별',\n",
        "    values = 'count',\n",
        "    title='전체 성별',\n",
        "    hole = 0.3\n",
        ")\n",
        "fig.show()"
      ],
      "metadata": {
        "id": "w8CPqrsUZmOs"
      },
      "execution_count": null,
      "outputs": []
    },
    {
      "cell_type": "code",
      "source": [
        "#고객 등급별 성별\n",
        "df_gender = df4.groupby(by = '고객ID')[['RFM_Rank', '성별']].first().reset_index()\n",
        "gender_counts = df_gender.groupby(['RFM_Rank', '성별']).size().unstack()\n",
        "gender_counts"
      ],
      "metadata": {
        "id": "rYwq0y-lOrq6"
      },
      "execution_count": null,
      "outputs": []
    },
    {
      "cell_type": "code",
      "source": [
        "fig = px.bar(gender_counts,\n",
        "             x=gender_counts.index,\n",
        "             y=['남', '여'],\n",
        "             title='등급별 성별 분포',\n",
        "             labels={'x': 'RFM Rank', 'y': 'Count', '성별': '성별'},\n",
        "             barmode='group')\n",
        "\n",
        "fig.show()"
      ],
      "metadata": {
        "id": "JOKucgfDOrm0"
      },
      "execution_count": null,
      "outputs": []
    },
    {
      "cell_type": "markdown",
      "source": [
        "## 지역"
      ],
      "metadata": {
        "id": "vsm8LhpC0wPR"
      }
    },
    {
      "cell_type": "code",
      "source": [
        "#고객 등급별 지역\n",
        "df_region = df4.groupby(by = '고객ID')[['RFM_Rank', '고객지역']].first().reset_index()\n",
        "region_counts = df_region.groupby(['RFM_Rank', '고객지역']).size().unstack()\n",
        "region_counts"
      ],
      "metadata": {
        "id": "D88D5yBgOrj7"
      },
      "execution_count": null,
      "outputs": []
    },
    {
      "cell_type": "code",
      "source": [
        "fig = px.bar(region_counts,\n",
        "             x=region_counts.index,\n",
        "             y=region_counts.columns,\n",
        "             title='등급별 지역 분포',\n",
        "             labels={'x': 'RFM Rank', 'y': 'Count', '고객지역': '고객지역'},\n",
        "             barmode='group')\n",
        "\n",
        "fig.show()"
      ],
      "metadata": {
        "id": "_fe-PwUQOrbl"
      },
      "execution_count": null,
      "outputs": []
    },
    {
      "cell_type": "markdown",
      "source": [
        "## 월간 거래수, 총수익"
      ],
      "metadata": {
        "id": "kFIprn2j0PP5"
      }
    },
    {
      "cell_type": "code",
      "source": [
        "df2['월'] = df2['거래날짜'].dt.month\n",
        "df_제품 = df2.groupby(by = ['월','제품카테고리']).agg(\n",
        "    총수익 = ('실제수익', 'sum'),\n",
        "    거래수 = ('거래ID', 'count')\n",
        ").reset_index()\n",
        "df_제품"
      ],
      "metadata": {
        "id": "JQKfP51aZbY2"
      },
      "execution_count": null,
      "outputs": []
    },
    {
      "cell_type": "code",
      "source": [
        "#상위 품목 3개를 제거해서 하위 품목 확인\n",
        "filtered_제품 = ['Nest-USA', 'Apparel']\n",
        "filtered_df = df_제품[~df_제품['제품카테고리'].isin(filtered_제품)]\n",
        "filtered_df"
      ],
      "metadata": {
        "id": "AdFTGl1b4Kf3"
      },
      "execution_count": null,
      "outputs": []
    },
    {
      "cell_type": "code",
      "source": [
        "fig1 = px.line(\n",
        "    df_제품,\n",
        "    x = '월',\n",
        "    y= '총수익',\n",
        "    color = '제품카테고리',\n",
        "    title = '월간 제품별 총수익'\n",
        ")\n",
        "\n",
        "fig2 = px.line(\n",
        "    filtered_df,\n",
        "    x = '월',\n",
        "    y= '총수익',\n",
        "    color = '제품카테고리',\n",
        "    title = '필터링 된 월간 제품별 총수익'\n",
        ")\n",
        "fig1.show()\n",
        "fig2.show()"
      ],
      "metadata": {
        "id": "1OlKvz3K3fEn"
      },
      "execution_count": null,
      "outputs": []
    },
    {
      "cell_type": "code",
      "source": [
        "\n",
        "fig3 = px.line(\n",
        "    df_제품,\n",
        "    x = '월',\n",
        "    y= '거래수',\n",
        "    color = '제품카테고리',\n",
        "    title = '월간 제품별 거래 수'\n",
        ")\n",
        "fig4 = px.line(\n",
        "    filtered_df,\n",
        "    x = '월',\n",
        "    y= '거래수',\n",
        "    color = '제품카테고리',\n",
        "    title = '필터링 된 월간 제품별 거래 수'\n",
        ")\n",
        "fig3.show()\n",
        "fig4.show()"
      ],
      "metadata": {
        "id": "vjk2voeNhQC6"
      },
      "execution_count": null,
      "outputs": []
    },
    {
      "cell_type": "markdown",
      "source": [
        "## 2. 등급별 많이 판매된 제품"
      ],
      "metadata": {
        "id": "G-GLE3mWbE_T"
      }
    },
    {
      "cell_type": "code",
      "source": [
        "df4['거래날짜'] = pd.to_datetime(df4.거래날짜)\n",
        "df4['월_num'] = df4['거래날짜'].dt.month"
      ],
      "metadata": {
        "id": "tPr1xfn85jvi"
      },
      "execution_count": null,
      "outputs": []
    },
    {
      "cell_type": "code",
      "source": [
        "rank_제품 = df4.groupby(by = ['월_num','제품카테고리','RFM_Rank']).agg(\n",
        "    총수익 = ('실제수익', 'sum'),\n",
        "    거래수 = ('거래ID', 'count')\n",
        ").reset_index()\n",
        "rank_제품"
      ],
      "metadata": {
        "id": "f6Ye4SgmaOyu"
      },
      "execution_count": null,
      "outputs": []
    },
    {
      "cell_type": "code",
      "source": [
        "vip = rank_제품[rank_제품['RFM_Rank'] == 'VIP']\n",
        "vip_top = vip.sort_values(by = '거래수',ascending = False).head(10)\n",
        "vip_top"
      ],
      "metadata": {
        "id": "C9m85CPAbAlk"
      },
      "execution_count": null,
      "outputs": []
    },
    {
      "cell_type": "code",
      "source": [
        "gold = rank_제품[rank_제품['RFM_Rank'] == 'GOLD']\n",
        "gold_top = gold.sort_values(by = '거래수',ascending = False).head(10)\n",
        "gold_top"
      ],
      "metadata": {
        "id": "OH2IDIEcbAic"
      },
      "execution_count": null,
      "outputs": []
    },
    {
      "cell_type": "code",
      "source": [
        "silver = rank_제품[rank_제품['RFM_Rank'] == 'SILVER']\n",
        "silver_top = silver.sort_values(by = '거래수',ascending = False).head(10)\n",
        "silver_top"
      ],
      "metadata": {
        "id": "btSM-ee0bAfS"
      },
      "execution_count": null,
      "outputs": []
    },
    {
      "cell_type": "code",
      "source": [
        "bronze = rank_제품[rank_제품['RFM_Rank'] == 'BRONZE']\n",
        "bronze_top = bronze.sort_values(by = '거래수',ascending = False).head(10)\n",
        "bronze_top"
      ],
      "metadata": {
        "id": "vK24_xtlbAcY"
      },
      "execution_count": null,
      "outputs": []
    },
    {
      "cell_type": "code",
      "source": [
        "fig_bronze = px.line(\n",
        "    bronze,\n",
        "    x = '월_num',\n",
        "    y = '거래수',\n",
        "    color = '제품카테고리',\n",
        "    title = 'BRONZE 월별 카테고리 거래 수'\n",
        ")\n",
        "fig_silver = px.line(\n",
        "    silver,\n",
        "    x = '월_num',\n",
        "    y = '거래수',\n",
        "    color = '제품카테고리',\n",
        "    title = 'SILVER 월별 카테고리 거래 수'\n",
        ")\n",
        "fig_gold = px.line(\n",
        "    gold,\n",
        "    x = '월_num',\n",
        "    y = '거래수',\n",
        "    color = '제품카테고리',\n",
        "    title = 'GOLD 월별 카테고리 거래 수'\n",
        ")\n",
        "fig_vip = px.line(\n",
        "    vip,\n",
        "    x = '월_num',\n",
        "    y = '거래수',\n",
        "    color = '제품카테고리',\n",
        "    title = 'VIP 월별 카테고리 거래 수'\n",
        ")\n",
        "fig_bronze.show()\n",
        "fig_silver.show()\n",
        "fig_gold.show()\n",
        "fig_vip.show()"
      ],
      "metadata": {
        "id": "fhDJciSblqYd"
      },
      "execution_count": null,
      "outputs": []
    },
    {
      "cell_type": "markdown",
      "source": [
        "## 등급별 월간 거래 현황"
      ],
      "metadata": {
        "id": "fDQ-mEYms4wc"
      }
    },
    {
      "cell_type": "code",
      "source": [
        "rank_총수익 = rank_제품.groupby(by='RFM_Rank')[['총수익', '거래수']].sum().reset_index()\n",
        "rank_총수익"
      ],
      "metadata": {
        "id": "u-7U_EezZijI"
      },
      "execution_count": null,
      "outputs": []
    },
    {
      "cell_type": "code",
      "source": [
        "#월간 거래수\n",
        "df_거래 =rank_제품.groupby(by = ['월_num','RFM_Rank'])[['거래수', '총수익']].sum().reset_index()\n",
        "fig = px.line(\n",
        "    df_거래,\n",
        "    x = '월_num',\n",
        "    y = '거래수',\n",
        "    color = 'RFM_Rank',\n",
        ")\n",
        "fig.show()"
      ],
      "metadata": {
        "id": "Ad8yUIyffprw"
      },
      "execution_count": null,
      "outputs": []
    },
    {
      "cell_type": "code",
      "source": [
        "#월간 총수익\n",
        "fig = px.line(\n",
        "    df_거래,\n",
        "    x = '월_num',\n",
        "    y = '총수익',\n",
        "    color = 'RFM_Rank',\n",
        ")\n",
        "fig.show()"
      ],
      "metadata": {
        "id": "DrMrXtaioh2V"
      },
      "execution_count": null,
      "outputs": []
    },
    {
      "cell_type": "markdown",
      "source": [
        "## 쿠폰 사용량"
      ],
      "metadata": {
        "id": "2W17kNN8z4dT"
      }
    },
    {
      "cell_type": "code",
      "source": [
        "#쿠폰사용량\n",
        "df_쿠폰 =  df4[['RFM_Rank', '제품카테고리', '쿠폰상태','거래ID']]\n",
        "df_쿠폰['쿠폰상태'] = df_쿠폰['쿠폰상태'].apply(lambda x: 1 if x == 'Used' else 0)\n",
        "df_쿠폰 = df_쿠폰.groupby(by = ['RFM_Rank', '제품카테고리'])[['쿠폰상태', '거래ID']].agg(\n",
        "    쿠폰거래=('쿠폰상태', 'sum'),\n",
        "    거래수=('거래ID', 'count')\n",
        ").reset_index()\n",
        "df_쿠폰['쿠폰사용비율'] = df_쿠폰['쿠폰거래']/df_쿠폰['거래수']\n",
        "df_쿠폰\n",
        "\n",
        "# 쿠폰 used 한 고객들 뽑아냄\n",
        "# 거래 날짜, 제품 카테고리, 쿠폰 사용 used count"
      ],
      "metadata": {
        "id": "rFB1CXlc0vQg"
      },
      "execution_count": null,
      "outputs": []
    },
    {
      "cell_type": "code",
      "source": [
        "fig = px.bar(\n",
        "    df_쿠폰,\n",
        "    x = '제품카테고리',\n",
        "    y= '쿠폰사용비율',\n",
        "    color = 'RFM_Rank',\n",
        "    hover_data=['거래수', '쿠폰거래'],\n",
        "    title='제품 카테고리별 등급에 따른 쿠폰 사용 비율'\n",
        ")\n",
        "fig.show()"
      ],
      "metadata": {
        "id": "ir4pyECk4K9D"
      },
      "execution_count": null,
      "outputs": []
    },
    {
      "cell_type": "markdown",
      "source": [
        "VIP등급에선 More Bags의 쿠폰 사용비율이 가장 높음\n",
        "\n",
        "GOLD등급에선 Fun, Notebooks & Journals 쿠폰 사용비율이 높음\n",
        "\n",
        "SILVER등급에선 표본은 적지만 Backpacks, Google, Gift Card의 쿠폰 사용비율이 높음\n",
        "\n",
        "BRONZE등급에선 Apparel,Nest-Canada, Office 등이 높음\n",
        "\n",
        "**=> 등급에 따라 쿠폰 사용율이 높은 제품에 쿠폰을 제공할 수 있다.**"
      ],
      "metadata": {
        "id": "dBzNoic4_AyX"
      }
    },
    {
      "cell_type": "markdown",
      "source": [
        "# (5) 제품분석"
      ],
      "metadata": {
        "id": "LDfblQKTu5hW"
      }
    },
    {
      "cell_type": "code",
      "source": [
        "# dfdf = df4.groupby(by = ['거래날짜', '제품카테고리'])['거래ID'].count()\n",
        "df_corr = df4.pivot_table(\n",
        "    index = '거래날짜',\n",
        "    columns = '제품카테고리',\n",
        "    values = '거래ID',\n",
        "    aggfunc = 'count'\n",
        "\n",
        ").fillna(0)\n",
        "df_corr.head()"
      ],
      "metadata": {
        "id": "0pdGdrK1tfb3"
      },
      "execution_count": null,
      "outputs": []
    },
    {
      "cell_type": "markdown",
      "source": [
        "## 제품 별 상관관계"
      ],
      "metadata": {
        "id": "Ch4SpEYB2GoM"
      }
    },
    {
      "cell_type": "code",
      "source": [
        "corr = df_corr.corr()\n",
        "plt.figure(figsize = (10,9))\n",
        "sns.heatmap(corr, annot = True, fmt = '.2f')"
      ],
      "metadata": {
        "id": "-VNZIklOvBi_"
      },
      "execution_count": null,
      "outputs": []
    },
    {
      "cell_type": "markdown",
      "source": [
        "\n",
        "**'Apparel', 'Notebooks & Journals' 강한 양의 상관관계**\n",
        "\n",
        "**'Nest', 'Accessories' 양의 상관관계**\n",
        "\n",
        "**'Nest', 'Notebooks & Journals' 음의 상관관계**\n",
        "\n",
        "**'Accessories', 'Notebooks & Journals' 음의 상관관계**\n",
        "\n",
        "\n",
        "\n"
      ],
      "metadata": {
        "id": "gL1uLkCWwVZi"
      }
    },
    {
      "cell_type": "code",
      "source": [
        "fig = px.scatter_matrix(\n",
        "    df_corr[['Accessories','Apparel', 'Notebooks & Journals','Nest']],\n",
        "    height = 800,\n",
        "    width = 1000,\n",
        "    opacity = .5\n",
        ")\n",
        "fig.show()"
      ],
      "metadata": {
        "id": "CeX5AUp8wDk-"
      },
      "execution_count": null,
      "outputs": []
    },
    {
      "cell_type": "markdown",
      "source": [
        "Nest와 Accessories는 양의 상관관계로 판매량이 높은 Nest를 기준으로 Accessories 상품을 추천해 줄 수 있다. 또한 Notebooks & Journals는 Nest와 Accessories와 음의 상관관계를 띄고 있으므로 대체 상품 등으로 활용할 수 있다.\n",
        "\n",
        "판매량이 높은 Apparel를 통해 강한 양의 상관관계를 띄는 Notebooks & Journals를 고객에게 추천함으로써 Notebooks & Journals의 판매량을 높일 수 있다."
      ],
      "metadata": {
        "id": "aHFCNX7T17JN"
      }
    },
    {
      "cell_type": "markdown",
      "source": [
        "# (5) 마케팅 분석"
      ],
      "metadata": {
        "id": "pJrEkYYcuF3K"
      }
    },
    {
      "cell_type": "code",
      "source": [
        "#월별 평균 마케팅 비용 확인\n",
        "Marketing['월'] = Marketing['날짜'].dt.month\n",
        "df_마케팅 = Marketing.groupby(by = '월')[['오프라인비용', '온라인비용']].mean().reset_index()\n",
        "df_마케팅['총 마케팅비용'] = df_마케팅['오프라인비용'] + df_마케팅['온라인비용']\n",
        "df_마케팅"
      ],
      "metadata": {
        "id": "ZEKPVGkMvLxB"
      },
      "execution_count": null,
      "outputs": []
    },
    {
      "cell_type": "code",
      "source": [
        "df_melted = pd.melt(df_마케팅, id_vars='월', value_vars=['오프라인비용', '온라인비용', '총 마케팅비용'],\n",
        "                    var_name='비용 유형', value_name='비용')"
      ],
      "metadata": {
        "id": "sjcL8CzQ9dHj"
      },
      "execution_count": null,
      "outputs": []
    },
    {
      "cell_type": "code",
      "source": [
        "fig = px.line(df_melted,\n",
        "              x='월',\n",
        "              y='비용',\n",
        "              color='비용 유형',\n",
        "              title='월별 평균 온라인 및 오프라인 비용')\n",
        "fig.show()"
      ],
      "metadata": {
        "id": "gDy_FWqRuZrO"
      },
      "execution_count": null,
      "outputs": []
    },
    {
      "cell_type": "code",
      "source": [
        "\n",
        "df_월_수익_거래 = df4.groupby(by = '월_num').agg(\n",
        "    총수익 = ('실제수익', 'sum'),\n",
        "    거래수 = ('거래ID', 'count')\n",
        ").reset_index()\n",
        "df_마케팅_거래 = pd.merge(df_마케팅,df_월_수익_거래, how = 'left', left_on = '월', right_on = '월_num')\n",
        "df_마케팅_거래.drop('월_num',axis = 1)"
      ],
      "metadata": {
        "id": "qEr1WVnh2N78"
      },
      "execution_count": null,
      "outputs": []
    },
    {
      "cell_type": "markdown",
      "source": [
        "## 회귀분석"
      ],
      "metadata": {
        "id": "30A-r289zeMw"
      }
    },
    {
      "cell_type": "code",
      "source": [
        "# 온, 오프라인 비용이 총 수익에 어떤 영향을 끼치는 확인하기 위해 선형회귀 진행\n",
        "from sklearn.linear_model import LinearRegression\n",
        "from sklearn.preprocessing import StandardScaler\n",
        "from sklearn.metrics import mean_squared_error\n",
        "from sklearn.model_selection import train_test_split\n",
        "\n",
        "X = df_마케팅_거래[['오프라인비용', '온라인비용']]\n",
        "y = df_마케팅_거래['총수익']\n",
        "\n",
        "# 특성 스케일링\n",
        "scaler = StandardScaler()\n",
        "X_scaled = scaler.fit_transform(X)\n",
        "\n",
        "# 데이터를 훈련 세트와 테스트 세트로 분할\n",
        "X_train, X_test, y_train, y_test = train_test_split(X_scaled, y, test_size=0.2, random_state=42)\n",
        "\n",
        "# 선형 회귀 모델 생성\n",
        "model = LinearRegression()\n",
        "\n",
        "# 모델 훈련\n",
        "model.fit(X_train, y_train)\n",
        "\n",
        "# 테스트 세트를 사용하여 예측\n",
        "y_pred = model.predict(X_test)\n",
        "\n",
        "# 회귀 계수 출력\n",
        "print(\"회귀 계수 (기울기):\", model.coef_)\n"
      ],
      "metadata": {
        "id": "MO_fa55t6Arl"
      },
      "execution_count": null,
      "outputs": []
    },
    {
      "cell_type": "markdown",
      "source": [
        "**오프라인 비용의 계수: 15090.43, 이는 오프라인 비용이 1 표준편차 증가할 때 총수익이 약 15090.43 단위 증가함을 의미합니다.**\n",
        "\n",
        "\n",
        "**온라인 비용의 계수: 23097.36, 이는 온라인 비용이 1 표준편차 증가할 때 거래 수가 약 23097.36 단위 증가함을 의미합니다.**"
      ],
      "metadata": {
        "id": "Qdec1YaYFMcc"
      }
    },
    {
      "cell_type": "markdown",
      "source": [
        "## 산점도"
      ],
      "metadata": {
        "id": "Kp1epej_zwrC"
      }
    },
    {
      "cell_type": "code",
      "source": [
        "# 산점도 오프라인비용\n",
        "fig = px.scatter(df_마케팅_거래, x='총 마케팅비용', y='총수익',\n",
        "                 title='총 마케팅 비용에 따른 월별 거래 수와 총수익-오프라인비용',\n",
        "                 color = '오프라인비용',\n",
        "                 hover_name = '월',\n",
        "                 size = '거래수'\n",
        ")\n",
        "\n",
        "# 그래프 표시\n",
        "fig.show()\n",
        "# 산점도 온라인비용\n",
        "fig2 = px.scatter(df_마케팅_거래, x='총 마케팅비용', y='총수익',\n",
        "                 title='총 마케팅 비용에 따른 월별 거래 수와 총수익-온라인비용',\n",
        "                 color = '온라인비용',\n",
        "                 hover_name = '월',\n",
        "                 size = '거래수'\n",
        ")\n",
        "\n",
        "# 그래프 표시\n",
        "fig2.show()"
      ],
      "metadata": {
        "id": "IIz98xtf8tU8"
      },
      "execution_count": null,
      "outputs": []
    },
    {
      "cell_type": "markdown",
      "source": [
        "**12월의 경우 총마케팅비용이 가장 높으며 총수익도 가장 많았다.**\n",
        "\n",
        "**11월의 경우 총마케팅비용은 12월보다 비교적 적었지만 총수익은 비슷했으며 오프라인 비용보다 온라인비용이 더 큰 것으로 온라인 마케팅 효과가 크다는 것을 알 수 있다.**\n",
        "\n",
        "**8월의 경우 총마케팅비용과 총수익이 많지는 않지만 거래수 가장 많은 것으로 보아 이때 할인을 많이 했다는 것을 유추할 수 있다.**\n",
        "\n",
        "**2월의 경우 총 마케팅 비용은 많지만 총수익과 거래수가 적어 마케팅 효과가 미미했다는 것을 알 수 있다.**"
      ],
      "metadata": {
        "id": "u3K02NgCFt3p"
      }
    }
  ]
}